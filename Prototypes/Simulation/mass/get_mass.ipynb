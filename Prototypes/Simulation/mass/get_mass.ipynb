{
 "cells": [
  {
   "cell_type": "code",
   "execution_count": 1,
   "metadata": {},
   "outputs": [],
   "source": [
    "from stl import mesh\n",
    "import numpy as np"
   ]
  },
  {
   "cell_type": "code",
   "execution_count": 2,
   "metadata": {},
   "outputs": [],
   "source": [
    "your_mesh = mesh.Mesh.from_file('brain.stl')"
   ]
  },
  {
   "cell_type": "code",
   "execution_count": 3,
   "metadata": {},
   "outputs": [
    {
     "name": "stdout",
     "output_type": "stream",
     "text": [
      "Volume = 604408.5443936392\n",
      "Position of the center of gravity (COG) = [ -1.0908088  -98.39870079  59.2050641 ]\n",
      "Inertia matrix at expressed at the COG = [ 8.00925941e+08 -1.69293234e+07  5.16299525e+06]\n",
      " [-1.69293234e+07  6.03594289e+08 -5.28142912e+07]\n",
      " [ 5.16299525e+06 -5.28142912e+07  1.02113920e+09]\n"
     ]
    }
   ],
   "source": [
    "volume, cog, inertia = your_mesh.get_mass_properties()\n",
    "print(\"Volume = {0}\".format(volume)) \n",
    "print(\"Position of the center of gravity (COG) = {0}\".format(cog)) \n",
    "print(\"Inertia matrix at expressed at the COG = {0}\".format(inertia[0,:])) \n",
    "print(\" {0}\".format(inertia[1,:])) \n",
    "print(\" {0}\".format(inertia[2,:]))"
   ]
  },
  {
   "cell_type": "code",
   "execution_count": 4,
   "metadata": {},
   "outputs": [],
   "source": [
    "# def calc_COG(v1,v2,weight1,weight2):\n",
    "#   total_w = weight1 + weight2\n",
    "#   w1_frac = weight1/total_w\n",
    "#   w2_frac = weight2/total_w\n",
    "#   COG = w1_frac*v1 + w2_frac*v2\n",
    "#   return COG\n",
    "\n",
    "def calc_COG(vectors,weights):\n",
    "  total_w = np.sum(weights)\n",
    "  fracs = weights/total_w\n",
    "  COG = np.sum(np.array([fracs[i]*vectors[i] for i in range(len(vectors))]), axis = 0)\n",
    "  return COG"
   ]
  },
  {
   "cell_type": "code",
   "execution_count": 5,
   "metadata": {},
   "outputs": [],
   "source": [
    "#setup input\n",
    "cutout = np.array([-3.27922964, -103.48350591,   32.27894635]) # 601786.8577301032\n",
    "skull = np.array([-1.51645437, -82.60931843,  25.82963429])\n",
    "brain = np.array([-1.0908088,  -98.39870079,  59.2050641])\n",
    "COG_nose = np.array([0,-10,-8])\n",
    "COG_neck = np.array([0,-35,-70])\n",
    "\n",
    "\n",
    "silic_brain_gcc = 1.07\n",
    "silic_CSF_gcc = 1.18\n",
    "\n",
    "w_cutout = 601.7868590215809 * silic_CSF_gcc\n",
    "w_skull = 345\n",
    "w_brain = 604.4085443936392 * silic_brain_gcc\n",
    "w_nose = 8 * 8.6\n",
    "w_neck = 38* 8.46\n"
   ]
  },
  {
   "cell_type": "code",
   "execution_count": 6,
   "metadata": {},
   "outputs": [
    {
     "name": "stdout",
     "output_type": "stream",
     "text": [
      "[ -0.78498493 -59.64472281 -20.39427465]\n",
      "Total weight:  1701.8256361466592\n"
     ]
    }
   ],
   "source": [
    "#compute center of gravity\n",
    "skull_nose_cog = calc_COG(np.array([skull,COG_neck]), np.array([w_skull,w_neck]))\n",
    "print(skull_nose_cog)\n",
    "print(\"Total weight: \", w_cutout+w_skull+w_brain)"
   ]
  },
  {
   "cell_type": "code",
   "execution_count": 7,
   "metadata": {},
   "outputs": [
    {
     "name": "stdout",
     "output_type": "stream",
     "text": [
      "[   20.35201217   -13.70634737 -1528.3070407 ]\n"
     ]
    }
   ],
   "source": [
    "# Calculate location for cylinder\n",
    "w_skull_nose = w_skull + w_nose\n",
    "\n",
    "end_cog = np.array([0,-55,-20])\n",
    "dir_vec = end_cog - skull_nose_cog\n",
    "\n",
    "\n",
    "b = (18*8.6)\n",
    "s = (b*end_cog + end_cog*(w_skull_nose) - w_skull*skull - w_nose*COG_nose)/(b*(dir_vec/np.linalg.norm(dir_vec)))\n",
    "\n",
    "print(s)"
   ]
  },
  {
   "cell_type": "code",
   "execution_count": 8,
   "metadata": {},
   "outputs": [
    {
     "name": "stdout",
     "output_type": "stream",
     "text": [
      "x-dist:  192\n",
      "z-dist:  234.3\n"
     ]
    }
   ],
   "source": [
    "x = 202\n",
    "z = 119.3\n",
    "\n",
    "att_x =10 \n",
    "att_z = -100\n",
    "print(\"x-dist: \", x-att_x)\n",
    "print(\"z-dist: \",z-att_z+15)"
   ]
  }
 ],
 "metadata": {
  "kernelspec": {
   "display_name": "Thesis_sim",
   "language": "python",
   "name": "python3"
  },
  "language_info": {
   "codemirror_mode": {
    "name": "ipython",
    "version": 3
   },
   "file_extension": ".py",
   "mimetype": "text/x-python",
   "name": "python",
   "nbconvert_exporter": "python",
   "pygments_lexer": "ipython3",
   "version": "3.11.7"
  }
 },
 "nbformat": 4,
 "nbformat_minor": 2
}

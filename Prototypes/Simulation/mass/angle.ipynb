{
 "cells": [
  {
   "cell_type": "code",
   "execution_count": 62,
   "metadata": {},
   "outputs": [],
   "source": [
    "import numpy as np"
   ]
  },
  {
   "cell_type": "code",
   "execution_count": 63,
   "metadata": {},
   "outputs": [],
   "source": [
    "COG = np.array([-55,  -20])\n",
    "attach_point = np.array([0,44.0775])\n",
    "coil_point = np.array([74,60.0775])\n",
    "vec1 = attach_point - COG\n",
    "vec2 = coil_point - COG\n",
    "\n",
    "attach_point2 = np.array([-26,-60.9225])\n",
    "coil_point2 = np.array([74,-100])\n",
    "\n",
    "vec3 = attach_point2 - COG\n",
    "vec4 = coil_point2 - COG"
   ]
  },
  {
   "cell_type": "code",
   "execution_count": 64,
   "metadata": {},
   "outputs": [
    {
     "name": "stdout",
     "output_type": "stream",
     "text": [
      "[ 29.     -40.9225] [129 -80]\n"
     ]
    }
   ],
   "source": [
    "print(vec3, vec4)"
   ]
  },
  {
   "cell_type": "code",
   "execution_count": 65,
   "metadata": {},
   "outputs": [
    {
     "name": "stdout",
     "output_type": "stream",
     "text": [
      "[  0.         -22.         -20.58916667]\n"
     ]
    }
   ],
   "source": [
    "v1 = np.array([-15,0,44.0775])\n",
    "v2 = np.array([15,0,44.0775])\n",
    "v3 = np.array([44,-40,-44.9225])\n",
    "v4 = np.array([35,-26,-60.9225])\n",
    "v5 = np.array([-35,-26,-60.9225])\n",
    "v6 = np.array([-44,-40,-44.9225])\n",
    "\n",
    "print((v1+v2+v3+v4+v5+v6)/6)"
   ]
  },
  {
   "cell_type": "code",
   "execution_count": 66,
   "metadata": {},
   "outputs": [],
   "source": [
    "def get_angle(vec_att,vec_coil):\n",
    "  cos_angle = (np.dot(vec_coil,vec_att))/(np.linalg.norm(vec_att)*np.linalg.norm(vec_coil))\n",
    "  return np.rad2deg(np.arccos(cos_angle))"
   ]
  },
  {
   "cell_type": "code",
   "execution_count": 67,
   "metadata": {},
   "outputs": [
    {
     "name": "stdout",
     "output_type": "stream",
     "text": [
      "17.529149862262944\n",
      "22.87112564673522\n"
     ]
    }
   ],
   "source": [
    "print(get_angle(vec1,vec2))\n",
    "print(get_angle(vec3,vec4))"
   ]
  },
  {
   "cell_type": "code",
   "execution_count": 68,
   "metadata": {},
   "outputs": [],
   "source": [
    "# Base attachment, head attachment\n",
    "\n",
    "FHEAD_LEFT = np.array([[91,74,60.077],\t[15,0,44.077]])\n",
    "FHEAD_RIGHT = np.array([[-91,74,60.077],\t[-15,0,44.077]])\n",
    "MID_RIGHT = np.array([[-121,74,-35.923],\t[-44,-40,-44.923]])\n",
    "CHIN_RIGHT = np.array([[-10,74,-100],\t[-35,-26,-60.923]])\n",
    "CHIN_LEFT = np.array([[10,74,-100],\t[35,-26,-60.923]])\n",
    "MID_LEFT = np.array([[121,74,-35.923],\t[44,-40,-44.923]])\n",
    "COM = np.array([ -0.78498493, -59.64472281, -20.39427465])"
   ]
  },
  {
   "cell_type": "code",
   "execution_count": 69,
   "metadata": {},
   "outputs": [
    {
     "name": "stdout",
     "output_type": "stream",
     "text": [
      "TOP DOWN ANGLES\n",
      "16.173625784811712\n",
      "16.173625784811712\n",
      "44.68152721818654\n",
      "19.522184195371\n",
      "19.522184195371\n",
      "44.68152721818654\n"
     ]
    }
   ],
   "source": [
    "idx = [1,2]\n",
    "lst = [FHEAD_LEFT,FHEAD_RIGHT,MID_RIGHT,CHIN_RIGHT,CHIN_LEFT,MID_LEFT]\n",
    "print(\"TOP DOWN ANGLES\")  \n",
    "for i in range(len(lst)):\n",
    "  print(get_angle(lst[i][1][idx]-COM[idx],lst[i][0][idx]-COM[idx]))\n"
   ]
  }
 ],
 "metadata": {
  "kernelspec": {
   "display_name": "Thesis_sim",
   "language": "python",
   "name": "python3"
  },
  "language_info": {
   "codemirror_mode": {
    "name": "ipython",
    "version": 3
   },
   "file_extension": ".py",
   "mimetype": "text/x-python",
   "name": "python",
   "nbconvert_exporter": "python",
   "pygments_lexer": "ipython3",
   "version": "3.8.18"
  }
 },
 "nbformat": 4,
 "nbformat_minor": 2
}
